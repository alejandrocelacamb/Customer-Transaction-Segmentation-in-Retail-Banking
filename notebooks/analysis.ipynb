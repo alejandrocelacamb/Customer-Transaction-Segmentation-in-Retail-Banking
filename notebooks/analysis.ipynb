{
 "cells": [
  {
   "cell_type": "markdown",
   "id": "a6736d84",
   "metadata": {},
   "source": [
    "# Customer Transaction Segmentation in Retail Banking\n",
    "\n",
    "## Goal: Analyze customer transaction patterns and segment user profiles based on spending habits, to identify insights useful for retention strategies in retail banking.\n",
    "\n",
    "🔍 **What’s included:** \n",
    "- Simulated dataset of 1,000 customers and 5,000 transactions\n",
    "- Exploratory analysis by category and frequency\n",
    "- Clustering by behavior (KMeans)\n",
    "- Key KPIs: avg. spend, retention proxy, active days"
   ]
  },
  {
   "cell_type": "markdown",
   "id": "5f73e589",
   "metadata": {},
   "source": [
    "## 1.- Exploratory Data Analysis: \n",
    "In this chapter, I will explore the simulated datasets in order to get useful insights. In this first approach, I will:\n",
    "- Explore the distribution of the clients by age and incomes\n",
    "- Find out the most common transactions categories\n",
    "- Total and average transactions by region or account type\n",
    "\n",
    "\n",
    "First, let's import our data: "
   ]
  },
  {
   "cell_type": "code",
   "execution_count": 151,
   "id": "38f3a911",
   "metadata": {},
   "outputs": [
    {
     "data": {
      "text/html": [
       "<div>\n",
       "<style scoped>\n",
       "    .dataframe tbody tr th:only-of-type {\n",
       "        vertical-align: middle;\n",
       "    }\n",
       "\n",
       "    .dataframe tbody tr th {\n",
       "        vertical-align: top;\n",
       "    }\n",
       "\n",
       "    .dataframe thead th {\n",
       "        text-align: right;\n",
       "    }\n",
       "</style>\n",
       "<table border=\"1\" class=\"dataframe\">\n",
       "  <thead>\n",
       "    <tr style=\"text-align: right;\">\n",
       "      <th></th>\n",
       "      <th>transaction_id</th>\n",
       "      <th>customer_id</th>\n",
       "      <th>amount</th>\n",
       "      <th>category</th>\n",
       "      <th>date</th>\n",
       "    </tr>\n",
       "  </thead>\n",
       "  <tbody>\n",
       "    <tr>\n",
       "      <th>0</th>\n",
       "      <td>1</td>\n",
       "      <td>1246</td>\n",
       "      <td>118.64</td>\n",
       "      <td>Travel</td>\n",
       "      <td>2025-06-10</td>\n",
       "    </tr>\n",
       "    <tr>\n",
       "      <th>1</th>\n",
       "      <td>2</td>\n",
       "      <td>1405</td>\n",
       "      <td>124.90</td>\n",
       "      <td>Travel</td>\n",
       "      <td>2024-10-13</td>\n",
       "    </tr>\n",
       "    <tr>\n",
       "      <th>2</th>\n",
       "      <td>3</td>\n",
       "      <td>1844</td>\n",
       "      <td>145.23</td>\n",
       "      <td>Travel</td>\n",
       "      <td>2025-02-15</td>\n",
       "    </tr>\n",
       "    <tr>\n",
       "      <th>3</th>\n",
       "      <td>4</td>\n",
       "      <td>1759</td>\n",
       "      <td>138.98</td>\n",
       "      <td>Dining</td>\n",
       "      <td>2025-06-05</td>\n",
       "    </tr>\n",
       "    <tr>\n",
       "      <th>4</th>\n",
       "      <td>5</td>\n",
       "      <td>1541</td>\n",
       "      <td>187.40</td>\n",
       "      <td>Groceries</td>\n",
       "      <td>2024-07-17</td>\n",
       "    </tr>\n",
       "    <tr>\n",
       "      <th>...</th>\n",
       "      <td>...</td>\n",
       "      <td>...</td>\n",
       "      <td>...</td>\n",
       "      <td>...</td>\n",
       "      <td>...</td>\n",
       "    </tr>\n",
       "    <tr>\n",
       "      <th>9995</th>\n",
       "      <td>9996</td>\n",
       "      <td>1444</td>\n",
       "      <td>112.52</td>\n",
       "      <td>Travel</td>\n",
       "      <td>2024-09-07</td>\n",
       "    </tr>\n",
       "    <tr>\n",
       "      <th>9996</th>\n",
       "      <td>9997</td>\n",
       "      <td>1999</td>\n",
       "      <td>98.62</td>\n",
       "      <td>Dining</td>\n",
       "      <td>2025-06-26</td>\n",
       "    </tr>\n",
       "    <tr>\n",
       "      <th>9997</th>\n",
       "      <td>9998</td>\n",
       "      <td>1427</td>\n",
       "      <td>143.83</td>\n",
       "      <td>Healthcare</td>\n",
       "      <td>2024-11-14</td>\n",
       "    </tr>\n",
       "    <tr>\n",
       "      <th>9998</th>\n",
       "      <td>9999</td>\n",
       "      <td>1057</td>\n",
       "      <td>139.58</td>\n",
       "      <td>Groceries</td>\n",
       "      <td>2024-07-01</td>\n",
       "    </tr>\n",
       "    <tr>\n",
       "      <th>9999</th>\n",
       "      <td>10000</td>\n",
       "      <td>1697</td>\n",
       "      <td>87.05</td>\n",
       "      <td>Travel</td>\n",
       "      <td>2024-07-07</td>\n",
       "    </tr>\n",
       "  </tbody>\n",
       "</table>\n",
       "<p>10000 rows × 5 columns</p>\n",
       "</div>"
      ],
      "text/plain": [
       "      transaction_id  customer_id  amount    category        date\n",
       "0                  1         1246  118.64      Travel  2025-06-10\n",
       "1                  2         1405  124.90      Travel  2024-10-13\n",
       "2                  3         1844  145.23      Travel  2025-02-15\n",
       "3                  4         1759  138.98      Dining  2025-06-05\n",
       "4                  5         1541  187.40   Groceries  2024-07-17\n",
       "...              ...          ...     ...         ...         ...\n",
       "9995            9996         1444  112.52      Travel  2024-09-07\n",
       "9996            9997         1999   98.62      Dining  2025-06-26\n",
       "9997            9998         1427  143.83  Healthcare  2024-11-14\n",
       "9998            9999         1057  139.58   Groceries  2024-07-01\n",
       "9999           10000         1697   87.05      Travel  2024-07-07\n",
       "\n",
       "[10000 rows x 5 columns]"
      ]
     },
     "execution_count": 151,
     "metadata": {},
     "output_type": "execute_result"
    }
   ],
   "source": [
    "import pandas as pd \n",
    "\n",
    "customers_df = pd.read_csv('C:/Users/aleja/OneDrive/Desktop/Workspaces/portfolio/simulated_bank/data/Customers__Updated_.csv')\n",
    "transactions_df = pd.read_csv('C:/Users/aleja/OneDrive/Desktop/Workspaces/portfolio/simulated_bank/data/Transactions__Updated_.csv')\n",
    "\n",
    "transactions_df.head()\n",
    "\n",
    "#I see that in transactions' df there is a uselesss column so I drop it:\n",
    "clean_transactions = transactions_df.drop(['Unnamed: 0'],axis=1)\n",
    "clean_transactions"
   ]
  },
  {
   "cell_type": "markdown",
   "id": "78ef5924",
   "metadata": {},
   "source": [
    "### 1.1.- Customer Distribution by Age"
   ]
  },
  {
   "cell_type": "markdown",
   "id": "37a92dd3",
   "metadata": {},
   "source": [
    "First, let's see the statistics of this column:\n"
   ]
  },
  {
   "cell_type": "code",
   "execution_count": 98,
   "id": "c24e26ce",
   "metadata": {},
   "outputs": [
    {
     "data": {
      "text/plain": [
       "count    1000.000000\n",
       "mean       44.904000\n",
       "std        14.178639\n",
       "min        18.000000\n",
       "25%        35.000000\n",
       "50%        45.000000\n",
       "75%        54.000000\n",
       "max        80.000000\n",
       "Name: age, dtype: float64"
      ]
     },
     "execution_count": 98,
     "metadata": {},
     "output_type": "execute_result"
    }
   ],
   "source": [
    "customers_df.age.describe()\n",
    "#customers_df.age.quantile(.75)"
   ]
  },
  {
   "cell_type": "markdown",
   "id": "94b045a0",
   "metadata": {},
   "source": [
    "We see that all customers are between 18 and 69 years old. In order to get better visualizations, I will categorize the age in 4 groups. In this case, I will take profit of the quartiles:"
   ]
  },
  {
   "cell_type": "code",
   "execution_count": 336,
   "id": "481d96aa",
   "metadata": {},
   "outputs": [
    {
     "data": {
      "text/plain": [
       "0      senior\n",
       "1       adult\n",
       "2      senior\n",
       "3         old\n",
       "4       adult\n",
       "        ...  \n",
       "995     adult\n",
       "996       NaN\n",
       "997    senior\n",
       "998     adult\n",
       "999    senior\n",
       "Name: age_category, Length: 1000, dtype: category\n",
       "Categories (4, object): ['young' < 'adult' < 'senior' < 'old']"
      ]
     },
     "execution_count": 336,
     "metadata": {},
     "output_type": "execute_result"
    }
   ],
   "source": [
    "min_age = 18\n",
    "q1 = customers_df.age.quantile(.25)\n",
    "q2 = customers_df.age.quantile(.5)\n",
    "q3 = customers_df.age.quantile(.75)\n",
    "max_age = 69\n",
    "\n",
    "age_bins = [min_age,q1,q2,q3,max_age]\n",
    "\n",
    "customers_df['age_category'] = pd.cut(customers_df['age'], bins=age_bins,labels=['young','adult','senior','old'], include_lowest=True)\n",
    "\n",
    "customers_df['age_category']"
   ]
  },
  {
   "cell_type": "markdown",
   "id": "0fcb30d1",
   "metadata": {},
   "source": [
    "Now, let's build the visualization: "
   ]
  },
  {
   "cell_type": "code",
   "execution_count": 100,
   "id": "e501673e",
   "metadata": {},
   "outputs": [
    {
     "data": {
      "image/png": "[encoded data removed]",
      "text/plain": [
       "<Figure size 640x480 with 1 Axes>"
      ]
     },
     "metadata": {},
     "output_type": "display_data"
    }
   ],
   "source": [
    "import matplotlib.pyplot as plt \n",
    "import seaborn as sns \n",
    "\n",
    "sns.histplot(data=customers_df,x='age_category')\n",
    "plt.ylabel('Age')\n",
    "plt.xlabel('Number of costumers')\n",
    "plt.title('Distribution of customers by age')\n",
    "plt.show()\n"
   ]
  },
  {
   "cell_type": "markdown",
   "id": "f40191f7",
   "metadata": {},
   "source": [
    "The histogram tells us that the amount of customers slightly decreases when the customers are older. However, the amount in the young, adult and senior groups is still quite similar. Let's visualize it in a piechart to double check: "
   ]
  },
  {
   "cell_type": "code",
   "execution_count": 337,
   "id": "f2918e71",
   "metadata": {},
   "outputs": [
    {
     "data": {
      "image/png": "[encoded data removed]",
      "text/plain": [
       "<Figure size 640x480 with 1 Axes>"
      ]
     },
     "metadata": {},
     "output_type": "display_data"
    }
   ],
   "source": [
    "age_counts = customers_df['age_category'].value_counts()\n",
    "\n",
    "# now plotting \n",
    "plt.pie(age_counts, labels=age_counts.index, autopct='%1.1f%%')\n",
    "plt.title('Customer distribution by age category')\n",
    "plt.show()"
   ]
  },
  {
   "cell_type": "markdown",
   "id": "493f06d7",
   "metadata": {},
   "source": []
  },
  {
   "cell_type": "markdown",
   "id": "ccd05906",
   "metadata": {},
   "source": [
    "### 1.2.- Most Frequent Spending Category\n",
    "In this second chapter, I will address the most common transaction in our second DataFrame"
   ]
  },
  {
   "cell_type": "code",
   "execution_count": 317,
   "id": "05eeaaf0",
   "metadata": {},
   "outputs": [
    {
     "data": {
      "text/plain": [
       "0    Groceries\n",
       "Name: category, dtype: object"
      ]
     },
     "execution_count": 317,
     "metadata": {},
     "output_type": "execute_result"
    }
   ],
   "source": [
    "clean_transactions.category.mode()"
   ]
  },
  {
   "cell_type": "markdown",
   "id": "cb1fe87b",
   "metadata": {},
   "source": [
    "Utilities category is the most common transaction category in our df."
   ]
  },
  {
   "cell_type": "markdown",
   "id": "159a26c8",
   "metadata": {},
   "source": [
    "### 1.3.- Total and Average Spending by Region and Account Type\n",
    "To do this, I first need to merge both DataFrames, as I need information from both df:"
   ]
  },
  {
   "cell_type": "code",
   "execution_count": 153,
   "id": "0e0e63f3",
   "metadata": {},
   "outputs": [
    {
     "data": {
      "text/html": [
       "<div>\n",
       "<style scoped>\n",
       "    .dataframe tbody tr th:only-of-type {\n",
       "        vertical-align: middle;\n",
       "    }\n",
       "\n",
       "    .dataframe tbody tr th {\n",
       "        vertical-align: top;\n",
       "    }\n",
       "\n",
       "    .dataframe thead th {\n",
       "        text-align: right;\n",
       "    }\n",
       "</style>\n",
       "<table border=\"1\" class=\"dataframe\">\n",
       "  <thead>\n",
       "    <tr style=\"text-align: right;\">\n",
       "      <th></th>\n",
       "      <th>customer_id</th>\n",
       "      <th>age</th>\n",
       "      <th>income</th>\n",
       "      <th>region</th>\n",
       "      <th>account_type</th>\n",
       "      <th>transaction_id</th>\n",
       "      <th>amount</th>\n",
       "      <th>category</th>\n",
       "      <th>date</th>\n",
       "    </tr>\n",
       "  </thead>\n",
       "  <tbody>\n",
       "    <tr>\n",
       "      <th>0</th>\n",
       "      <td>1001</td>\n",
       "      <td>52</td>\n",
       "      <td>114983</td>\n",
       "      <td>Basel</td>\n",
       "      <td>Premium</td>\n",
       "      <td>129</td>\n",
       "      <td>162.16</td>\n",
       "      <td>Groceries</td>\n",
       "      <td>2025-06-30</td>\n",
       "    </tr>\n",
       "    <tr>\n",
       "      <th>1</th>\n",
       "      <td>1001</td>\n",
       "      <td>52</td>\n",
       "      <td>114983</td>\n",
       "      <td>Basel</td>\n",
       "      <td>Premium</td>\n",
       "      <td>371</td>\n",
       "      <td>94.06</td>\n",
       "      <td>Dining</td>\n",
       "      <td>2024-08-02</td>\n",
       "    </tr>\n",
       "    <tr>\n",
       "      <th>2</th>\n",
       "      <td>1001</td>\n",
       "      <td>52</td>\n",
       "      <td>114983</td>\n",
       "      <td>Basel</td>\n",
       "      <td>Premium</td>\n",
       "      <td>633</td>\n",
       "      <td>56.48</td>\n",
       "      <td>Dining</td>\n",
       "      <td>2024-05-29</td>\n",
       "    </tr>\n",
       "    <tr>\n",
       "      <th>3</th>\n",
       "      <td>1001</td>\n",
       "      <td>52</td>\n",
       "      <td>114983</td>\n",
       "      <td>Basel</td>\n",
       "      <td>Premium</td>\n",
       "      <td>707</td>\n",
       "      <td>96.55</td>\n",
       "      <td>Dining</td>\n",
       "      <td>2024-04-23</td>\n",
       "    </tr>\n",
       "    <tr>\n",
       "      <th>4</th>\n",
       "      <td>1001</td>\n",
       "      <td>52</td>\n",
       "      <td>114983</td>\n",
       "      <td>Basel</td>\n",
       "      <td>Premium</td>\n",
       "      <td>1053</td>\n",
       "      <td>184.26</td>\n",
       "      <td>Utilities</td>\n",
       "      <td>2025-01-08</td>\n",
       "    </tr>\n",
       "  </tbody>\n",
       "</table>\n",
       "</div>"
      ],
      "text/plain": [
       "   customer_id  age  income region account_type  transaction_id  amount  \\\n",
       "0         1001   52  114983  Basel      Premium             129  162.16   \n",
       "1         1001   52  114983  Basel      Premium             371   94.06   \n",
       "2         1001   52  114983  Basel      Premium             633   56.48   \n",
       "3         1001   52  114983  Basel      Premium             707   96.55   \n",
       "4         1001   52  114983  Basel      Premium            1053  184.26   \n",
       "\n",
       "    category        date  \n",
       "0  Groceries  2025-06-30  \n",
       "1     Dining  2024-08-02  \n",
       "2     Dining  2024-05-29  \n",
       "3     Dining  2024-04-23  \n",
       "4  Utilities  2025-01-08  "
      ]
     },
     "execution_count": 153,
     "metadata": {},
     "output_type": "execute_result"
    }
   ],
   "source": [
    "merged_df = pd.merge(customers_df,clean_transactions)\n",
    "merged_df.head()"
   ]
  },
  {
   "cell_type": "markdown",
   "id": "413682c7",
   "metadata": {},
   "source": [
    "Now that we have our merged df, we can group it by region and by account type to then get the total and the average:"
   ]
  },
  {
   "cell_type": "code",
   "execution_count": 154,
   "id": "3aeb3907",
   "metadata": {},
   "outputs": [],
   "source": [
    "#grouping by region and account type:\n",
    "grouped_region = merged_df.groupby('region')\n",
    "grouped_atype = merged_df.groupby('account_type')\n",
    "\n",
    "\n"
   ]
  },
  {
   "cell_type": "code",
   "execution_count": 155,
   "id": "db60ffce",
   "metadata": {},
   "outputs": [
    {
     "data": {
      "text/plain": [
       "region\n",
       "Basel       220148.41\n",
       "Bern        211462.67\n",
       "Geneva      205359.93\n",
       "Lausanne    209693.75\n",
       "Zurich      234549.27\n",
       "Name: amount, dtype: float64"
      ]
     },
     "execution_count": 155,
     "metadata": {},
     "output_type": "execute_result"
    }
   ],
   "source": [
    "#now, getting the total by region:\n",
    "\n",
    "grouped_region['amount'].sum()"
   ]
  },
  {
   "cell_type": "code",
   "execution_count": 156,
   "id": "4119c4ad",
   "metadata": {},
   "outputs": [
    {
     "data": {
      "text/plain": [
       "region\n",
       "Basel       108.394097\n",
       "Bern        108.945219\n",
       "Geneva      106.625093\n",
       "Lausanne    107.922671\n",
       "Zurich      108.637920\n",
       "Name: amount, dtype: float64"
      ]
     },
     "execution_count": 156,
     "metadata": {},
     "output_type": "execute_result"
    }
   ],
   "source": [
    "#and the average by region:\n",
    "grouped_region['amount'].mean()"
   ]
  },
  {
   "cell_type": "code",
   "execution_count": 157,
   "id": "fd391e4b",
   "metadata": {},
   "outputs": [
    {
     "data": {
      "text/plain": [
       "account_type\n",
       "Basic      545229.40\n",
       "Gold       203493.23\n",
       "Premium    332491.40\n",
       "Name: amount, dtype: float64"
      ]
     },
     "execution_count": 157,
     "metadata": {},
     "output_type": "execute_result"
    }
   ],
   "source": [
    "#doing exactly the same with the account type:\n",
    "\n",
    "grouped_atype['amount'].sum()"
   ]
  },
  {
   "cell_type": "code",
   "execution_count": 158,
   "id": "aba43ec0",
   "metadata": {},
   "outputs": [
    {
     "data": {
      "text/plain": [
       "account_type\n",
       "Basic      108.936943\n",
       "Gold       106.485207\n",
       "Premium    107.811738\n",
       "Name: amount, dtype: float64"
      ]
     },
     "execution_count": 158,
     "metadata": {},
     "output_type": "execute_result"
    }
   ],
   "source": [
    "#and getting the average:\n",
    "\n",
    "grouped_atype['amount'].mean()"
   ]
  },
  {
   "cell_type": "markdown",
   "id": "13fea744",
   "metadata": {},
   "source": [
    "I think those numbers don't say so much about the distribution, so better build a couple of fast visualizations: \n"
   ]
  },
  {
   "cell_type": "code",
   "execution_count": 159,
   "id": "b98a0031",
   "metadata": {},
   "outputs": [],
   "source": [
    "#targetting our data\n",
    "atype_counts = grouped_atype['amount'].sum()\n",
    "region_counts = grouped_region['amount'].sum()\n"
   ]
  },
  {
   "cell_type": "code",
   "execution_count": 160,
   "id": "f10c73a0",
   "metadata": {},
   "outputs": [
    {
     "data": {
      "image/png": "[encoded data removed]",
      "text/plain": [
       "<Figure size 640x480 with 1 Axes>"
      ]
     },
     "metadata": {},
     "output_type": "display_data"
    }
   ],
   "source": [
    "plt.pie(atype_counts, labels=atype_counts.index, autopct='%1.1f%%')\n",
    "plt.title('Customer distribution by account type')\n",
    "plt.show()"
   ]
  },
  {
   "cell_type": "code",
   "execution_count": 161,
   "id": "02041ba9",
   "metadata": {},
   "outputs": [
    {
     "data": {
      "image/png": "[encoded data removed]",
      "text/plain": [
       "<Figure size 640x480 with 1 Axes>"
      ]
     },
     "metadata": {},
     "output_type": "display_data"
    }
   ],
   "source": [
    "sns.barplot(data=merged_df, x='region',y='amount',hue='region', palette='pastel')\n",
    "plt.title('Customer distribution by Region')\n",
    "plt.show()"
   ]
  },
  {
   "cell_type": "markdown",
   "id": "6506b743",
   "metadata": {},
   "source": [
    "We find a perfectly homogeneus distribution between regions, having the exactly amount of customers in every region. In the other hand, there is a big gap between the amount of customers for each account type: half of the total customers have bought the basic account. The 50% left is distributed mainly in the gold account (18.8%) and the (30.8%). This means that the average customer prefers to spend less and have a more basic service."
   ]
  },
  {
   "cell_type": "markdown",
   "id": "1dc055f6",
   "metadata": {},
   "source": [
    "## 2. - Clustering by behavior (Financial KPIs)\n",
    "In this chapter, we will study the KMeans of this datasets. To achieve that, I will first focus on the average outcomes by client, then on the transactions frecuency by account type and finally on the months with most outcome volume."
   ]
  },
  {
   "cell_type": "markdown",
   "id": "292e1be6",
   "metadata": {},
   "source": [
    "### 2.1.- Average Spending per Customer"
   ]
  },
  {
   "cell_type": "code",
   "execution_count": 163,
   "id": "6fea9d44",
   "metadata": {},
   "outputs": [
    {
     "data": {
      "text/html": [
       "<div>\n",
       "<style scoped>\n",
       "    .dataframe tbody tr th:only-of-type {\n",
       "        vertical-align: middle;\n",
       "    }\n",
       "\n",
       "    .dataframe tbody tr th {\n",
       "        vertical-align: top;\n",
       "    }\n",
       "\n",
       "    .dataframe thead th {\n",
       "        text-align: right;\n",
       "    }\n",
       "</style>\n",
       "<table border=\"1\" class=\"dataframe\">\n",
       "  <thead>\n",
       "    <tr style=\"text-align: right;\">\n",
       "      <th></th>\n",
       "      <th>transaction_id</th>\n",
       "      <th>customer_id</th>\n",
       "      <th>amount</th>\n",
       "      <th>category</th>\n",
       "      <th>date</th>\n",
       "    </tr>\n",
       "  </thead>\n",
       "  <tbody>\n",
       "    <tr>\n",
       "      <th>0</th>\n",
       "      <td>1</td>\n",
       "      <td>1246</td>\n",
       "      <td>118.64</td>\n",
       "      <td>Travel</td>\n",
       "      <td>2025-06-10</td>\n",
       "    </tr>\n",
       "    <tr>\n",
       "      <th>1</th>\n",
       "      <td>2</td>\n",
       "      <td>1405</td>\n",
       "      <td>124.90</td>\n",
       "      <td>Travel</td>\n",
       "      <td>2024-10-13</td>\n",
       "    </tr>\n",
       "    <tr>\n",
       "      <th>2</th>\n",
       "      <td>3</td>\n",
       "      <td>1844</td>\n",
       "      <td>145.23</td>\n",
       "      <td>Travel</td>\n",
       "      <td>2025-02-15</td>\n",
       "    </tr>\n",
       "    <tr>\n",
       "      <th>3</th>\n",
       "      <td>4</td>\n",
       "      <td>1759</td>\n",
       "      <td>138.98</td>\n",
       "      <td>Dining</td>\n",
       "      <td>2025-06-05</td>\n",
       "    </tr>\n",
       "    <tr>\n",
       "      <th>4</th>\n",
       "      <td>5</td>\n",
       "      <td>1541</td>\n",
       "      <td>187.40</td>\n",
       "      <td>Groceries</td>\n",
       "      <td>2024-07-17</td>\n",
       "    </tr>\n",
       "    <tr>\n",
       "      <th>...</th>\n",
       "      <td>...</td>\n",
       "      <td>...</td>\n",
       "      <td>...</td>\n",
       "      <td>...</td>\n",
       "      <td>...</td>\n",
       "    </tr>\n",
       "    <tr>\n",
       "      <th>9995</th>\n",
       "      <td>9996</td>\n",
       "      <td>1444</td>\n",
       "      <td>112.52</td>\n",
       "      <td>Travel</td>\n",
       "      <td>2024-09-07</td>\n",
       "    </tr>\n",
       "    <tr>\n",
       "      <th>9996</th>\n",
       "      <td>9997</td>\n",
       "      <td>1999</td>\n",
       "      <td>98.62</td>\n",
       "      <td>Dining</td>\n",
       "      <td>2025-06-26</td>\n",
       "    </tr>\n",
       "    <tr>\n",
       "      <th>9997</th>\n",
       "      <td>9998</td>\n",
       "      <td>1427</td>\n",
       "      <td>143.83</td>\n",
       "      <td>Healthcare</td>\n",
       "      <td>2024-11-14</td>\n",
       "    </tr>\n",
       "    <tr>\n",
       "      <th>9998</th>\n",
       "      <td>9999</td>\n",
       "      <td>1057</td>\n",
       "      <td>139.58</td>\n",
       "      <td>Groceries</td>\n",
       "      <td>2024-07-01</td>\n",
       "    </tr>\n",
       "    <tr>\n",
       "      <th>9999</th>\n",
       "      <td>10000</td>\n",
       "      <td>1697</td>\n",
       "      <td>87.05</td>\n",
       "      <td>Travel</td>\n",
       "      <td>2024-07-07</td>\n",
       "    </tr>\n",
       "  </tbody>\n",
       "</table>\n",
       "<p>10000 rows × 5 columns</p>\n",
       "</div>"
      ],
      "text/plain": [
       "      transaction_id  customer_id  amount    category        date\n",
       "0                  1         1246  118.64      Travel  2025-06-10\n",
       "1                  2         1405  124.90      Travel  2024-10-13\n",
       "2                  3         1844  145.23      Travel  2025-02-15\n",
       "3                  4         1759  138.98      Dining  2025-06-05\n",
       "4                  5         1541  187.40   Groceries  2024-07-17\n",
       "...              ...          ...     ...         ...         ...\n",
       "9995            9996         1444  112.52      Travel  2024-09-07\n",
       "9996            9997         1999   98.62      Dining  2025-06-26\n",
       "9997            9998         1427  143.83  Healthcare  2024-11-14\n",
       "9998            9999         1057  139.58   Groceries  2024-07-01\n",
       "9999           10000         1697   87.05      Travel  2024-07-07\n",
       "\n",
       "[10000 rows x 5 columns]"
      ]
     },
     "execution_count": 163,
     "metadata": {},
     "output_type": "execute_result"
    }
   ],
   "source": [
    "clean_transactions"
   ]
  },
  {
   "cell_type": "code",
   "execution_count": 176,
   "id": "87740602",
   "metadata": {},
   "outputs": [
    {
     "data": {
      "text/plain": [
       "np.float64(1081.21403)"
      ]
     },
     "execution_count": 176,
     "metadata": {},
     "output_type": "execute_result"
    }
   ],
   "source": [
    "#first we obtain the total outcome for all clients\n",
    "total_trans_client = clean_transactions.groupby('customer_id')['amount'].sum()\n",
    "\n",
    "#then the mean, which gives us the mean of all transactions:\n",
    "average_by_client = total_trans_client.mean()\n",
    "average_by_client"
   ]
  },
  {
   "cell_type": "code",
   "execution_count": 168,
   "id": "23f8b3bb",
   "metadata": {},
   "outputs": [
    {
     "data": {
      "text/plain": [
       "count    1000.00000\n",
       "mean     1081.21403\n",
       "std       382.25840\n",
       "min       175.42000\n",
       "25%       806.70000\n",
       "50%      1036.55000\n",
       "75%      1329.43250\n",
       "max      2836.53000\n",
       "Name: amount, dtype: float64"
      ]
     },
     "execution_count": 168,
     "metadata": {},
     "output_type": "execute_result"
    }
   ],
   "source": [
    "#the mean itself doesn't give so much information, as we have different profiles of customers. Let's go for the descriptive statistics:\n",
    "total_trans_client.describe()"
   ]
  },
  {
   "cell_type": "markdown",
   "id": "faaa1128",
   "metadata": {},
   "source": [
    "In this case, we have a mean that is not so far from the median, which means that the average will be quite a representative number for the general outcomes. However, there is a big gap between the third quartile and the maximum, which clearly indicates that even if there are less transactions of this amount, they are actually quite bigger. Let's try to see the distribution of the transactions by client with a histogram and a boxplot to individuate the outliers:"
   ]
  },
  {
   "cell_type": "code",
   "execution_count": 170,
   "id": "53961b66",
   "metadata": {},
   "outputs": [
    {
     "data": {
      "text/plain": [
       "<Axes: xlabel='amount', ylabel='Count'>"
      ]
     },
     "execution_count": 170,
     "metadata": {},
     "output_type": "execute_result"
    },
    {
     "data": {
      "image/png": "[encoded data removed]",
      "text/plain": [
       "<Figure size 640x480 with 1 Axes>"
      ]
     },
     "metadata": {},
     "output_type": "display_data"
    }
   ],
   "source": [
    "sns.histplot(total_trans_client,kde=True)"
   ]
  },
  {
   "cell_type": "code",
   "execution_count": 174,
   "id": "b19c3f3a",
   "metadata": {},
   "outputs": [
    {
     "data": {
      "text/plain": [
       "<Axes: xlabel='amount'>"
      ]
     },
     "execution_count": 174,
     "metadata": {},
     "output_type": "execute_result"
    },
    {
     "data": {
      "image/png": "[encoded data removed]",
      "text/plain": [
       "<Figure size 640x480 with 1 Axes>"
      ]
     },
     "metadata": {},
     "output_type": "display_data"
    }
   ],
   "source": [
    "sns.boxplot(total_trans_client, orient='h')"
   ]
  },
  {
   "cell_type": "markdown",
   "id": "c144158c",
   "metadata": {},
   "source": [
    "As we already anticipated by reading the statistics, we find a slightly right skewed distribution (histogram), with some relevant high values in the right tail of the chart. We can double check this tendency by watching the boxplot, that shows the outliers out of the box, which is itself quite normally distributed. So let's focus on those high values, in order to see how many they are. In this case, we will catch the part of the tail of the histogram that gives this right skewed form. Doing it this way, we have on one hand our perfectly gaussian distribution and we study this tail separately, in order to see its characteristics: "
   ]
  },
  {
   "cell_type": "code",
   "execution_count": 211,
   "id": "33e2e150",
   "metadata": {},
   "outputs": [
    {
     "data": {
      "text/plain": [
       "np.int64(12)"
      ]
     },
     "execution_count": 211,
     "metadata": {},
     "output_type": "execute_result"
    }
   ],
   "source": [
    "#first we target the values of our sample that are over 2000:\n",
    "outliers_mask = clean_transactions.groupby('customer_id')['amount'].sum() >= 2000\n",
    "\n",
    "#and then we use the max to filter within the total transactions object to have a separate varaible to study, and also to see how many transactions we have:\n",
    "big_transactions = total_trans_client[outliers_mask]\n",
    "big_transactions.count()\n"
   ]
  },
  {
   "cell_type": "code",
   "execution_count": null,
   "id": "563b6346",
   "metadata": {},
   "outputs": [
    {
     "data": {
      "text/plain": [
       "np.float64(2.4759501132259625)"
      ]
     },
     "execution_count": 221,
     "metadata": {},
     "output_type": "execute_result"
    }
   ],
   "source": [
    "#First, I want to see the percentage that the count of this big transactions represents in front of the total: \n",
    "(big_transactions.count() / total_trans_client.count() ) * 100 #out: 1.2\n",
    "\n",
    "#now, let's see regarding the representation comparing to the total amount:\n",
    "(big_transactions.sum() / total_trans_client.sum()) * 100\n"
   ]
  },
  {
   "cell_type": "markdown",
   "id": "4ef96798",
   "metadata": {},
   "source": [
    "The amount of big transactions represents the 1.2% of the total transactions, which is a very small part. However, it represents the 2.4% of the incomes. In order to have a 360 degrees point of view of this transactions, let's have some visualizations of them and let's find out the type of customer that is doing them: "
   ]
  },
  {
   "cell_type": "code",
   "execution_count": 264,
   "id": "1cd23cbc",
   "metadata": {},
   "outputs": [
    {
     "data": {
      "text/html": [
       "<div>\n",
       "<style scoped>\n",
       "    .dataframe tbody tr th:only-of-type {\n",
       "        vertical-align: middle;\n",
       "    }\n",
       "\n",
       "    .dataframe tbody tr th {\n",
       "        vertical-align: top;\n",
       "    }\n",
       "\n",
       "    .dataframe thead th {\n",
       "        text-align: right;\n",
       "    }\n",
       "</style>\n",
       "<table border=\"1\" class=\"dataframe\">\n",
       "  <thead>\n",
       "    <tr style=\"text-align: right;\">\n",
       "      <th></th>\n",
       "      <th>customer_id</th>\n",
       "      <th>age</th>\n",
       "      <th>income</th>\n",
       "      <th>region</th>\n",
       "      <th>account_type</th>\n",
       "    </tr>\n",
       "  </thead>\n",
       "  <tbody>\n",
       "    <tr>\n",
       "      <th>220</th>\n",
       "      <td>1221</td>\n",
       "      <td>79</td>\n",
       "      <td>50310</td>\n",
       "      <td>Zurich</td>\n",
       "      <td>Gold</td>\n",
       "    </tr>\n",
       "    <tr>\n",
       "      <th>254</th>\n",
       "      <td>1255</td>\n",
       "      <td>22</td>\n",
       "      <td>110691</td>\n",
       "      <td>Lausanne</td>\n",
       "      <td>Premium</td>\n",
       "    </tr>\n",
       "    <tr>\n",
       "      <th>270</th>\n",
       "      <td>1271</td>\n",
       "      <td>66</td>\n",
       "      <td>107282</td>\n",
       "      <td>Geneva</td>\n",
       "      <td>Gold</td>\n",
       "    </tr>\n",
       "    <tr>\n",
       "      <th>292</th>\n",
       "      <td>1293</td>\n",
       "      <td>36</td>\n",
       "      <td>79848</td>\n",
       "      <td>Lausanne</td>\n",
       "      <td>Gold</td>\n",
       "    </tr>\n",
       "    <tr>\n",
       "      <th>386</th>\n",
       "      <td>1387</td>\n",
       "      <td>50</td>\n",
       "      <td>112543</td>\n",
       "      <td>Bern</td>\n",
       "      <td>Basic</td>\n",
       "    </tr>\n",
       "    <tr>\n",
       "      <th>395</th>\n",
       "      <td>1396</td>\n",
       "      <td>37</td>\n",
       "      <td>84617</td>\n",
       "      <td>Zurich</td>\n",
       "      <td>Gold</td>\n",
       "    </tr>\n",
       "    <tr>\n",
       "      <th>463</th>\n",
       "      <td>1464</td>\n",
       "      <td>48</td>\n",
       "      <td>58736</td>\n",
       "      <td>Zurich</td>\n",
       "      <td>Basic</td>\n",
       "    </tr>\n",
       "    <tr>\n",
       "      <th>502</th>\n",
       "      <td>1503</td>\n",
       "      <td>24</td>\n",
       "      <td>59545</td>\n",
       "      <td>Zurich</td>\n",
       "      <td>Basic</td>\n",
       "    </tr>\n",
       "    <tr>\n",
       "      <th>559</th>\n",
       "      <td>1560</td>\n",
       "      <td>38</td>\n",
       "      <td>73221</td>\n",
       "      <td>Lausanne</td>\n",
       "      <td>Basic</td>\n",
       "    </tr>\n",
       "    <tr>\n",
       "      <th>611</th>\n",
       "      <td>1612</td>\n",
       "      <td>44</td>\n",
       "      <td>40920</td>\n",
       "      <td>Basel</td>\n",
       "      <td>Premium</td>\n",
       "    </tr>\n",
       "    <tr>\n",
       "      <th>636</th>\n",
       "      <td>1637</td>\n",
       "      <td>57</td>\n",
       "      <td>56121</td>\n",
       "      <td>Geneva</td>\n",
       "      <td>Gold</td>\n",
       "    </tr>\n",
       "    <tr>\n",
       "      <th>837</th>\n",
       "      <td>1838</td>\n",
       "      <td>30</td>\n",
       "      <td>82713</td>\n",
       "      <td>Geneva</td>\n",
       "      <td>Gold</td>\n",
       "    </tr>\n",
       "  </tbody>\n",
       "</table>\n",
       "</div>"
      ],
      "text/plain": [
       "     customer_id  age  income    region account_type\n",
       "220         1221   79   50310    Zurich         Gold\n",
       "254         1255   22  110691  Lausanne      Premium\n",
       "270         1271   66  107282    Geneva         Gold\n",
       "292         1293   36   79848  Lausanne         Gold\n",
       "386         1387   50  112543      Bern        Basic\n",
       "395         1396   37   84617    Zurich         Gold\n",
       "463         1464   48   58736    Zurich        Basic\n",
       "502         1503   24   59545    Zurich        Basic\n",
       "559         1560   38   73221  Lausanne        Basic\n",
       "611         1612   44   40920     Basel      Premium\n",
       "636         1637   57   56121    Geneva         Gold\n",
       "837         1838   30   82713    Geneva         Gold"
      ]
     },
     "execution_count": 264,
     "metadata": {},
     "output_type": "execute_result"
    }
   ],
   "source": [
    "#let's see who is doing the big transactions:\n",
    "top_clients = big_transactions.index\n",
    "top_clients_df = customers_df[customers_df['customer_id' ].isin(top_clients)]\n",
    "\n",
    "#here we have an overview of this small group\n",
    "top_clients_df\n",
    "\n"
   ]
  },
  {
   "cell_type": "code",
   "execution_count": 281,
   "id": "ce17e2f4",
   "metadata": {},
   "outputs": [
    {
     "data": {
      "text/html": [
       "<div>\n",
       "<style scoped>\n",
       "    .dataframe tbody tr th:only-of-type {\n",
       "        vertical-align: middle;\n",
       "    }\n",
       "\n",
       "    .dataframe tbody tr th {\n",
       "        vertical-align: top;\n",
       "    }\n",
       "\n",
       "    .dataframe thead th {\n",
       "        text-align: right;\n",
       "    }\n",
       "</style>\n",
       "<table border=\"1\" class=\"dataframe\">\n",
       "  <thead>\n",
       "    <tr style=\"text-align: right;\">\n",
       "      <th></th>\n",
       "      <th>customer_id</th>\n",
       "      <th>age</th>\n",
       "      <th>income</th>\n",
       "    </tr>\n",
       "  </thead>\n",
       "  <tbody>\n",
       "    <tr>\n",
       "      <th>count</th>\n",
       "      <td>12.000000</td>\n",
       "      <td>12.000000</td>\n",
       "      <td>12.000000</td>\n",
       "    </tr>\n",
       "    <tr>\n",
       "      <th>mean</th>\n",
       "      <td>1453.083333</td>\n",
       "      <td>44.250000</td>\n",
       "      <td>76378.916667</td>\n",
       "    </tr>\n",
       "    <tr>\n",
       "      <th>std</th>\n",
       "      <td>186.056911</td>\n",
       "      <td>16.944428</td>\n",
       "      <td>24331.262690</td>\n",
       "    </tr>\n",
       "    <tr>\n",
       "      <th>min</th>\n",
       "      <td>1221.000000</td>\n",
       "      <td>22.000000</td>\n",
       "      <td>40920.000000</td>\n",
       "    </tr>\n",
       "    <tr>\n",
       "      <th>25%</th>\n",
       "      <td>1287.500000</td>\n",
       "      <td>34.500000</td>\n",
       "      <td>58082.250000</td>\n",
       "    </tr>\n",
       "    <tr>\n",
       "      <th>50%</th>\n",
       "      <td>1430.000000</td>\n",
       "      <td>41.000000</td>\n",
       "      <td>76534.500000</td>\n",
       "    </tr>\n",
       "    <tr>\n",
       "      <th>75%</th>\n",
       "      <td>1573.000000</td>\n",
       "      <td>51.750000</td>\n",
       "      <td>90283.250000</td>\n",
       "    </tr>\n",
       "    <tr>\n",
       "      <th>max</th>\n",
       "      <td>1838.000000</td>\n",
       "      <td>79.000000</td>\n",
       "      <td>112543.000000</td>\n",
       "    </tr>\n",
       "  </tbody>\n",
       "</table>\n",
       "</div>"
      ],
      "text/plain": [
       "       customer_id        age         income\n",
       "count    12.000000  12.000000      12.000000\n",
       "mean   1453.083333  44.250000   76378.916667\n",
       "std     186.056911  16.944428   24331.262690\n",
       "min    1221.000000  22.000000   40920.000000\n",
       "25%    1287.500000  34.500000   58082.250000\n",
       "50%    1430.000000  41.000000   76534.500000\n",
       "75%    1573.000000  51.750000   90283.250000\n",
       "max    1838.000000  79.000000  112543.000000"
      ]
     },
     "execution_count": 281,
     "metadata": {},
     "output_type": "execute_result"
    }
   ],
   "source": [
    "#here we have an overview of the statistics of this small group:\n",
    "top_clients_df.describe()\n",
    "\n"
   ]
  },
  {
   "cell_type": "markdown",
   "id": "4dc1f3ff",
   "metadata": {},
   "source": [
    "Regarding the statistics, we see a big gap between the minimum and maximum incomes, as the minimum income is 40920.- (which is a low income in Switzerland). This customer is also one of the very few that has a Premium account in this group (there is just another one). On the other hand, there is a maximum income of 112542.-, and this customer have paradoxly a Basic account, so we can say that there is not correlation between the incomes, the amount of the transaction and the account type. Finally, I would like to mention that the top region in this group is Zurich, and the top account type is basic."
   ]
  },
  {
   "cell_type": "markdown",
   "id": "57bbe255",
   "metadata": {},
   "source": [
    "## 2.2.- Transactions frequency by account type\n",
    "In this subchapter, I will study the frequency of the transactions based on the account type. To do that, I can reuse the variable I created to group by account type"
   ]
  },
  {
   "cell_type": "code",
   "execution_count": 302,
   "id": "265cc1d7",
   "metadata": {},
   "outputs": [
    {
     "data": {
      "text/plain": [
       "account_type\n",
       "Basic      5005\n",
       "Gold       1911\n",
       "Premium    3084\n",
       "Name: date, dtype: int64"
      ]
     },
     "execution_count": 302,
     "metadata": {},
     "output_type": "execute_result"
    }
   ],
   "source": [
    "grouped_atype['date'].count()"
   ]
  },
  {
   "cell_type": "code",
   "execution_count": 299,
   "id": "7cc5c550",
   "metadata": {},
   "outputs": [
    {
     "data": {
      "text/plain": [
       "account_type\n",
       "Basic      108.936943\n",
       "Gold       106.485207\n",
       "Premium    107.811738\n",
       "Name: amount, dtype: float64"
      ]
     },
     "execution_count": 299,
     "metadata": {},
     "output_type": "execute_result"
    }
   ],
   "source": [
    "grouped_atype['amount'].mean()"
   ]
  },
  {
   "cell_type": "markdown",
   "id": "93748d43",
   "metadata": {},
   "source": [
    "As we can see, there is no major difference in the average transaction amount between the account types. However, the Basic customers make more transactinos, which suggests that the behavior in Basic customers is equally important, but relevantly more frequent. Below we can observe more clearly this behavior:"
   ]
  },
  {
   "cell_type": "code",
   "execution_count": 315,
   "id": "ec8c6600",
   "metadata": {},
   "outputs": [
    {
     "data": {
      "image/png": "[encoded data removed]",
      "text/plain": [
       "<Figure size 640x480 with 1 Axes>"
      ]
     },
     "metadata": {},
     "output_type": "display_data"
    }
   ],
   "source": [
    "sns.barplot(grouped_atype['date'].count())\n",
    "plt.title(\"Transaction Count by Account Type\")\n",
    "plt.ylabel(\"Number of Transactions\")\n",
    "plt.xlabel(\"Account Type\")\n",
    "plt.show()"
   ]
  },
  {
   "cell_type": "markdown",
   "id": "17f02f55",
   "metadata": {},
   "source": [
    "### 2.3.- Monthly Spending Volume Analysis\n",
    "In this last subchapter, I will study the monthly spending volume. To do that, I first need to group by date and then go to the amount colum in order to get the correct data:\n",
    " "
   ]
  },
  {
   "cell_type": "code",
   "execution_count": 334,
   "id": "af58296d",
   "metadata": {},
   "outputs": [
    {
     "data": {
      "text/html": [
       "<div>\n",
       "<style scoped>\n",
       "    .dataframe tbody tr th:only-of-type {\n",
       "        vertical-align: middle;\n",
       "    }\n",
       "\n",
       "    .dataframe tbody tr th {\n",
       "        vertical-align: top;\n",
       "    }\n",
       "\n",
       "    .dataframe thead th {\n",
       "        text-align: right;\n",
       "    }\n",
       "</style>\n",
       "<table border=\"1\" class=\"dataframe\">\n",
       "  <thead>\n",
       "    <tr style=\"text-align: right;\">\n",
       "      <th></th>\n",
       "      <th>count</th>\n",
       "      <th>mean</th>\n",
       "      <th>std</th>\n",
       "      <th>min</th>\n",
       "      <th>25%</th>\n",
       "      <th>50%</th>\n",
       "      <th>75%</th>\n",
       "      <th>max</th>\n",
       "    </tr>\n",
       "    <tr>\n",
       "      <th>month</th>\n",
       "      <th></th>\n",
       "      <th></th>\n",
       "      <th></th>\n",
       "      <th></th>\n",
       "      <th></th>\n",
       "      <th></th>\n",
       "      <th></th>\n",
       "      <th></th>\n",
       "    </tr>\n",
       "  </thead>\n",
       "  <tbody>\n",
       "    <tr>\n",
       "      <th>2024-01</th>\n",
       "      <td>581.0</td>\n",
       "      <td>109.502788</td>\n",
       "      <td>42.075461</td>\n",
       "      <td>4.07</td>\n",
       "      <td>78.5800</td>\n",
       "      <td>107.960</td>\n",
       "      <td>138.3000</td>\n",
       "      <td>218.56</td>\n",
       "    </tr>\n",
       "    <tr>\n",
       "      <th>2024-02</th>\n",
       "      <td>528.0</td>\n",
       "      <td>108.667822</td>\n",
       "      <td>42.268565</td>\n",
       "      <td>0.78</td>\n",
       "      <td>78.1725</td>\n",
       "      <td>105.780</td>\n",
       "      <td>137.9075</td>\n",
       "      <td>249.77</td>\n",
       "    </tr>\n",
       "    <tr>\n",
       "      <th>2024-03</th>\n",
       "      <td>555.0</td>\n",
       "      <td>108.464216</td>\n",
       "      <td>39.434335</td>\n",
       "      <td>2.94</td>\n",
       "      <td>78.9300</td>\n",
       "      <td>107.170</td>\n",
       "      <td>135.1750</td>\n",
       "      <td>212.36</td>\n",
       "    </tr>\n",
       "    <tr>\n",
       "      <th>2024-04</th>\n",
       "      <td>548.0</td>\n",
       "      <td>109.488686</td>\n",
       "      <td>39.249935</td>\n",
       "      <td>2.73</td>\n",
       "      <td>79.2425</td>\n",
       "      <td>107.000</td>\n",
       "      <td>136.5850</td>\n",
       "      <td>221.25</td>\n",
       "    </tr>\n",
       "    <tr>\n",
       "      <th>2024-05</th>\n",
       "      <td>536.0</td>\n",
       "      <td>109.532593</td>\n",
       "      <td>40.581547</td>\n",
       "      <td>10.36</td>\n",
       "      <td>80.6250</td>\n",
       "      <td>106.355</td>\n",
       "      <td>137.3600</td>\n",
       "      <td>245.68</td>\n",
       "    </tr>\n",
       "    <tr>\n",
       "      <th>2024-06</th>\n",
       "      <td>552.0</td>\n",
       "      <td>108.564438</td>\n",
       "      <td>41.728584</td>\n",
       "      <td>12.30</td>\n",
       "      <td>77.5175</td>\n",
       "      <td>109.230</td>\n",
       "      <td>135.4725</td>\n",
       "      <td>235.84</td>\n",
       "    </tr>\n",
       "    <tr>\n",
       "      <th>2024-07</th>\n",
       "      <td>531.0</td>\n",
       "      <td>109.597740</td>\n",
       "      <td>40.033517</td>\n",
       "      <td>4.58</td>\n",
       "      <td>80.7850</td>\n",
       "      <td>108.750</td>\n",
       "      <td>137.7900</td>\n",
       "      <td>212.65</td>\n",
       "    </tr>\n",
       "    <tr>\n",
       "      <th>2024-08</th>\n",
       "      <td>573.0</td>\n",
       "      <td>106.419895</td>\n",
       "      <td>40.586533</td>\n",
       "      <td>0.17</td>\n",
       "      <td>78.6900</td>\n",
       "      <td>104.950</td>\n",
       "      <td>131.9000</td>\n",
       "      <td>218.16</td>\n",
       "    </tr>\n",
       "    <tr>\n",
       "      <th>2024-09</th>\n",
       "      <td>553.0</td>\n",
       "      <td>109.102948</td>\n",
       "      <td>40.715498</td>\n",
       "      <td>1.03</td>\n",
       "      <td>78.2800</td>\n",
       "      <td>108.470</td>\n",
       "      <td>134.5500</td>\n",
       "      <td>235.53</td>\n",
       "    </tr>\n",
       "    <tr>\n",
       "      <th>2024-10</th>\n",
       "      <td>524.0</td>\n",
       "      <td>104.558779</td>\n",
       "      <td>40.226788</td>\n",
       "      <td>7.40</td>\n",
       "      <td>74.4350</td>\n",
       "      <td>101.475</td>\n",
       "      <td>132.0950</td>\n",
       "      <td>216.12</td>\n",
       "    </tr>\n",
       "    <tr>\n",
       "      <th>2024-11</th>\n",
       "      <td>571.0</td>\n",
       "      <td>107.924974</td>\n",
       "      <td>41.872136</td>\n",
       "      <td>0.28</td>\n",
       "      <td>78.5550</td>\n",
       "      <td>104.110</td>\n",
       "      <td>136.9000</td>\n",
       "      <td>254.33</td>\n",
       "    </tr>\n",
       "    <tr>\n",
       "      <th>2024-12</th>\n",
       "      <td>576.0</td>\n",
       "      <td>106.551024</td>\n",
       "      <td>40.008646</td>\n",
       "      <td>0.13</td>\n",
       "      <td>76.2450</td>\n",
       "      <td>103.435</td>\n",
       "      <td>137.5350</td>\n",
       "      <td>234.25</td>\n",
       "    </tr>\n",
       "    <tr>\n",
       "      <th>2025-01</th>\n",
       "      <td>582.0</td>\n",
       "      <td>112.371357</td>\n",
       "      <td>43.542771</td>\n",
       "      <td>5.57</td>\n",
       "      <td>80.1200</td>\n",
       "      <td>111.465</td>\n",
       "      <td>142.9550</td>\n",
       "      <td>239.61</td>\n",
       "    </tr>\n",
       "    <tr>\n",
       "      <th>2025-02</th>\n",
       "      <td>510.0</td>\n",
       "      <td>106.996784</td>\n",
       "      <td>42.120763</td>\n",
       "      <td>1.79</td>\n",
       "      <td>75.4625</td>\n",
       "      <td>102.405</td>\n",
       "      <td>132.7575</td>\n",
       "      <td>235.50</td>\n",
       "    </tr>\n",
       "    <tr>\n",
       "      <th>2025-03</th>\n",
       "      <td>546.0</td>\n",
       "      <td>110.498608</td>\n",
       "      <td>42.147982</td>\n",
       "      <td>1.73</td>\n",
       "      <td>81.0425</td>\n",
       "      <td>109.835</td>\n",
       "      <td>138.4725</td>\n",
       "      <td>243.52</td>\n",
       "    </tr>\n",
       "    <tr>\n",
       "      <th>2025-04</th>\n",
       "      <td>520.0</td>\n",
       "      <td>106.445635</td>\n",
       "      <td>38.941451</td>\n",
       "      <td>10.56</td>\n",
       "      <td>79.2350</td>\n",
       "      <td>103.425</td>\n",
       "      <td>134.3525</td>\n",
       "      <td>222.44</td>\n",
       "    </tr>\n",
       "    <tr>\n",
       "      <th>2025-05</th>\n",
       "      <td>604.0</td>\n",
       "      <td>105.634685</td>\n",
       "      <td>40.554956</td>\n",
       "      <td>5.30</td>\n",
       "      <td>79.4250</td>\n",
       "      <td>103.750</td>\n",
       "      <td>130.9400</td>\n",
       "      <td>220.50</td>\n",
       "    </tr>\n",
       "    <tr>\n",
       "      <th>2025-06</th>\n",
       "      <td>610.0</td>\n",
       "      <td>105.950377</td>\n",
       "      <td>41.122755</td>\n",
       "      <td>3.78</td>\n",
       "      <td>77.5900</td>\n",
       "      <td>101.985</td>\n",
       "      <td>134.0675</td>\n",
       "      <td>225.76</td>\n",
       "    </tr>\n",
       "  </tbody>\n",
       "</table>\n",
       "</div>"
      ],
      "text/plain": [
       "         count        mean        std    min      25%      50%       75%  \\\n",
       "month                                                                      \n",
       "2024-01  581.0  109.502788  42.075461   4.07  78.5800  107.960  138.3000   \n",
       "2024-02  528.0  108.667822  42.268565   0.78  78.1725  105.780  137.9075   \n",
       "2024-03  555.0  108.464216  39.434335   2.94  78.9300  107.170  135.1750   \n",
       "2024-04  548.0  109.488686  39.249935   2.73  79.2425  107.000  136.5850   \n",
       "2024-05  536.0  109.532593  40.581547  10.36  80.6250  106.355  137.3600   \n",
       "2024-06  552.0  108.564438  41.728584  12.30  77.5175  109.230  135.4725   \n",
       "2024-07  531.0  109.597740  40.033517   4.58  80.7850  108.750  137.7900   \n",
       "2024-08  573.0  106.419895  40.586533   0.17  78.6900  104.950  131.9000   \n",
       "2024-09  553.0  109.102948  40.715498   1.03  78.2800  108.470  134.5500   \n",
       "2024-10  524.0  104.558779  40.226788   7.40  74.4350  101.475  132.0950   \n",
       "2024-11  571.0  107.924974  41.872136   0.28  78.5550  104.110  136.9000   \n",
       "2024-12  576.0  106.551024  40.008646   0.13  76.2450  103.435  137.5350   \n",
       "2025-01  582.0  112.371357  43.542771   5.57  80.1200  111.465  142.9550   \n",
       "2025-02  510.0  106.996784  42.120763   1.79  75.4625  102.405  132.7575   \n",
       "2025-03  546.0  110.498608  42.147982   1.73  81.0425  109.835  138.4725   \n",
       "2025-04  520.0  106.445635  38.941451  10.56  79.2350  103.425  134.3525   \n",
       "2025-05  604.0  105.634685  40.554956   5.30  79.4250  103.750  130.9400   \n",
       "2025-06  610.0  105.950377  41.122755   3.78  77.5900  101.985  134.0675   \n",
       "\n",
       "            max  \n",
       "month            \n",
       "2024-01  218.56  \n",
       "2024-02  249.77  \n",
       "2024-03  212.36  \n",
       "2024-04  221.25  \n",
       "2024-05  245.68  \n",
       "2024-06  235.84  \n",
       "2024-07  212.65  \n",
       "2024-08  218.16  \n",
       "2024-09  235.53  \n",
       "2024-10  216.12  \n",
       "2024-11  254.33  \n",
       "2024-12  234.25  \n",
       "2025-01  239.61  \n",
       "2025-02  235.50  \n",
       "2025-03  243.52  \n",
       "2025-04  222.44  \n",
       "2025-05  220.50  \n",
       "2025-06  225.76  "
      ]
     },
     "execution_count": 334,
     "metadata": {},
     "output_type": "execute_result"
    }
   ],
   "source": [
    "#first I check that the date colum is in the proper format:\n",
    "clean_transactions['date'] = pd.to_datetime(clean_transactions['date']) \n",
    "\n",
    "#then I create a colum with the month according to the transactions' date:\n",
    "clean_transactions['month'] = clean_transactions['date'].dt.to_period('M')\n",
    "\n",
    "#finally, I can get the monthly spending by grouping by month and going to the amount colum:\n",
    "monthly_spending = clean_transactions.groupby('month')['amount'].sum().sort_index()\n",
    "\n",
    "#I first study the statistics in order to have a first approach:\n",
    "clean_transactions.groupby('month')['amount'].describe()\n"
   ]
  },
  {
   "cell_type": "code",
   "execution_count": 328,
   "id": "443dadb3",
   "metadata": {},
   "outputs": [
    {
     "data": {
      "image/png": "[encoded data removed]",
      "text/plain": [
       "<Figure size 1200x600 with 1 Axes>"
      ]
     },
     "metadata": {},
     "output_type": "display_data"
    }
   ],
   "source": [
    "#I can then plot the data in order to visualize and study the behavior:\n",
    "\n",
    "monthly_spending.plot(kind='bar', figsize=(12,6))\n",
    "plt.title('Total Monthly Spending')\n",
    "plt.xlabel('Month')\n",
    "plt.ylabel('Total Amount Spent')\n",
    "plt.xticks(rotation=45)\n",
    "plt.tight_layout()\n",
    "plt.show()"
   ]
  },
  {
   "cell_type": "markdown",
   "id": "073a2466",
   "metadata": {},
   "source": [
    "Based on both the descriptive statistics and the plotted bar chart, monthly spending appears relatively stable across the observed period. There are no strong seasonal trends or significant variations, suggesting a consistent spending behavior over time. However, we observe slightly higher spending levels in January 2024 and January 2025, which could be attributed to post-holiday consumer behavior. This insight could be explored further for potential seasonal marketing strategies."
   ]
  },
  {
   "cell_type": "markdown",
   "id": "e7077980",
   "metadata": {},
   "source": [
    "## Exporting the data for dashboarding"
   ]
  },
  {
   "cell_type": "code",
   "execution_count": 345,
   "id": "9b7d9f38",
   "metadata": {},
   "outputs": [],
   "source": [
    "#clean transactions dataframe: \n",
    "clean_transactions.to_csv('C:/Users/aleja/OneDrive/Desktop/Workspaces/portfolio/simulated_bank/data/clean_transactions.csv')\n"
   ]
  },
  {
   "cell_type": "code",
   "execution_count": 344,
   "id": "cabf98bd",
   "metadata": {},
   "outputs": [],
   "source": [
    "#now, I need a segmentation of the clients, by income: \n",
    "min_income = customers_df.income.min()\n",
    "q1 = customers_df.income.quantile(.25)\n",
    "q2 = customers_df.income.quantile(.5)\n",
    "q3 = customers_df.income.quantile(.75)\n",
    "max_income = customers_df.income.max()\n",
    "\n",
    "income_bins = [min_income,q1,q2,q3,max_income]\n",
    "\n",
    "customers_df['income_category'] = pd.cut(customers_df['income'], bins=income_bins,labels=['low income','middle income','upper income','top income'], include_lowest=True)\n",
    "\n",
    "#then I can export the df as csv:\n",
    "customers_df.to_csv('C:/Users/aleja/OneDrive/Desktop/Workspaces/portfolio/simulated_bank/data/customers_df.csv')"
   ]
  },
  {
   "cell_type": "code",
   "execution_count": 347,
   "id": "90b24abf",
   "metadata": {},
   "outputs": [],
   "source": [
    "#finally, I export my merged df to csv:\n",
    "merged_df.to_csv('C:/Users/aleja/OneDrive/Desktop/Workspaces/portfolio/simulated_bank/data/merged_df.csv')"
   ]
  },
  {
   "cell_type": "code",
   "execution_count": null,
   "id": "8691695f",
   "metadata": {},
   "outputs": [],
   "source": []
  }
 ],
 "metadata": {
  "kernelspec": {
   "display_name": "Python 3",
   "language": "python",
   "name": "python3"
  },
  "language_info": {
   "codemirror_mode": {
    "name": "ipython",
    "version": 3
   },
   "file_extension": ".py",
   "mimetype": "text/x-python",
   "name": "python",
   "nbconvert_exporter": "python",
   "pygments_lexer": "ipython3",
   "version": "3.9.19"
  }
 },
 "nbformat": 4,
 "nbformat_minor": 5
}
